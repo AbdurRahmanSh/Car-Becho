{
 "cells": [
  {
   "cell_type": "code",
   "execution_count": 1,
   "id": "841df8ee",
   "metadata": {},
   "outputs": [],
   "source": [
    "import numpy as np\n",
    "import pandas as pd\n",
    "import seaborn as sns\n",
    "import matplotlib.pyplot as plt\n",
    "%matplotlib inline\n"
   ]
  },
  {
   "cell_type": "code",
   "execution_count": 13,
   "id": "918a70a7",
   "metadata": {},
   "outputs": [
    {
     "data": {
      "text/html": [
       "<div>\n",
       "<style scoped>\n",
       "    .dataframe tbody tr th:only-of-type {\n",
       "        vertical-align: middle;\n",
       "    }\n",
       "\n",
       "    .dataframe tbody tr th {\n",
       "        vertical-align: top;\n",
       "    }\n",
       "\n",
       "    .dataframe thead th {\n",
       "        text-align: right;\n",
       "    }\n",
       "</style>\n",
       "<table border=\"1\" class=\"dataframe\">\n",
       "  <thead>\n",
       "    <tr style=\"text-align: right;\">\n",
       "      <th></th>\n",
       "      <th>Car_Name</th>\n",
       "      <th>Year</th>\n",
       "      <th>Selling_Price</th>\n",
       "      <th>Present_Price</th>\n",
       "      <th>Kms_Driven</th>\n",
       "      <th>Fuel_Type</th>\n",
       "      <th>Seller_Type</th>\n",
       "      <th>Transmission</th>\n",
       "      <th>Owner</th>\n",
       "    </tr>\n",
       "  </thead>\n",
       "  <tbody>\n",
       "    <tr>\n",
       "      <th>0</th>\n",
       "      <td>ritz</td>\n",
       "      <td>2014</td>\n",
       "      <td>3.35</td>\n",
       "      <td>5.59</td>\n",
       "      <td>27000</td>\n",
       "      <td>Petrol</td>\n",
       "      <td>Dealer</td>\n",
       "      <td>Manual</td>\n",
       "      <td>0</td>\n",
       "    </tr>\n",
       "    <tr>\n",
       "      <th>1</th>\n",
       "      <td>sx4</td>\n",
       "      <td>2013</td>\n",
       "      <td>4.75</td>\n",
       "      <td>9.54</td>\n",
       "      <td>43000</td>\n",
       "      <td>Diesel</td>\n",
       "      <td>Dealer</td>\n",
       "      <td>Manual</td>\n",
       "      <td>0</td>\n",
       "    </tr>\n",
       "    <tr>\n",
       "      <th>2</th>\n",
       "      <td>ciaz</td>\n",
       "      <td>2017</td>\n",
       "      <td>7.25</td>\n",
       "      <td>9.85</td>\n",
       "      <td>6900</td>\n",
       "      <td>Petrol</td>\n",
       "      <td>Dealer</td>\n",
       "      <td>Manual</td>\n",
       "      <td>0</td>\n",
       "    </tr>\n",
       "    <tr>\n",
       "      <th>3</th>\n",
       "      <td>wagon r</td>\n",
       "      <td>2011</td>\n",
       "      <td>2.85</td>\n",
       "      <td>4.15</td>\n",
       "      <td>5200</td>\n",
       "      <td>Petrol</td>\n",
       "      <td>Dealer</td>\n",
       "      <td>Manual</td>\n",
       "      <td>0</td>\n",
       "    </tr>\n",
       "    <tr>\n",
       "      <th>4</th>\n",
       "      <td>swift</td>\n",
       "      <td>2014</td>\n",
       "      <td>4.60</td>\n",
       "      <td>6.87</td>\n",
       "      <td>42450</td>\n",
       "      <td>Diesel</td>\n",
       "      <td>Dealer</td>\n",
       "      <td>Manual</td>\n",
       "      <td>0</td>\n",
       "    </tr>\n",
       "  </tbody>\n",
       "</table>\n",
       "</div>"
      ],
      "text/plain": [
       "  Car_Name  Year  Selling_Price  Present_Price  Kms_Driven Fuel_Type  \\\n",
       "0     ritz  2014           3.35           5.59       27000    Petrol   \n",
       "1      sx4  2013           4.75           9.54       43000    Diesel   \n",
       "2     ciaz  2017           7.25           9.85        6900    Petrol   \n",
       "3  wagon r  2011           2.85           4.15        5200    Petrol   \n",
       "4    swift  2014           4.60           6.87       42450    Diesel   \n",
       "\n",
       "  Seller_Type Transmission  Owner  \n",
       "0      Dealer       Manual      0  \n",
       "1      Dealer       Manual      0  \n",
       "2      Dealer       Manual      0  \n",
       "3      Dealer       Manual      0  \n",
       "4      Dealer       Manual      0  "
      ]
     },
     "execution_count": 13,
     "metadata": {},
     "output_type": "execute_result"
    }
   ],
   "source": [
    "df = pd.read_csv('car data.csv')\n",
    "df.head()\n"
   ]
  },
  {
   "cell_type": "code",
   "execution_count": 14,
   "id": "5d5f72f1",
   "metadata": {},
   "outputs": [],
   "source": [
    "x = df.drop(['Car_Name','Selling_Price'],axis=1)\n",
    "y = df['Selling_Price']"
   ]
  },
  {
   "cell_type": "code",
   "execution_count": 15,
   "id": "ac682dd6",
   "metadata": {},
   "outputs": [
    {
     "data": {
      "text/html": [
       "<div>\n",
       "<style scoped>\n",
       "    .dataframe tbody tr th:only-of-type {\n",
       "        vertical-align: middle;\n",
       "    }\n",
       "\n",
       "    .dataframe tbody tr th {\n",
       "        vertical-align: top;\n",
       "    }\n",
       "\n",
       "    .dataframe thead th {\n",
       "        text-align: right;\n",
       "    }\n",
       "</style>\n",
       "<table border=\"1\" class=\"dataframe\">\n",
       "  <thead>\n",
       "    <tr style=\"text-align: right;\">\n",
       "      <th></th>\n",
       "      <th>Year</th>\n",
       "      <th>Present_Price</th>\n",
       "      <th>Kms_Driven</th>\n",
       "      <th>Fuel_Type</th>\n",
       "      <th>Seller_Type</th>\n",
       "      <th>Transmission</th>\n",
       "      <th>Owner</th>\n",
       "    </tr>\n",
       "  </thead>\n",
       "  <tbody>\n",
       "    <tr>\n",
       "      <th>0</th>\n",
       "      <td>2014</td>\n",
       "      <td>5.59</td>\n",
       "      <td>27000</td>\n",
       "      <td>Petrol</td>\n",
       "      <td>Dealer</td>\n",
       "      <td>Manual</td>\n",
       "      <td>0</td>\n",
       "    </tr>\n",
       "    <tr>\n",
       "      <th>1</th>\n",
       "      <td>2013</td>\n",
       "      <td>9.54</td>\n",
       "      <td>43000</td>\n",
       "      <td>Diesel</td>\n",
       "      <td>Dealer</td>\n",
       "      <td>Manual</td>\n",
       "      <td>0</td>\n",
       "    </tr>\n",
       "    <tr>\n",
       "      <th>2</th>\n",
       "      <td>2017</td>\n",
       "      <td>9.85</td>\n",
       "      <td>6900</td>\n",
       "      <td>Petrol</td>\n",
       "      <td>Dealer</td>\n",
       "      <td>Manual</td>\n",
       "      <td>0</td>\n",
       "    </tr>\n",
       "    <tr>\n",
       "      <th>3</th>\n",
       "      <td>2011</td>\n",
       "      <td>4.15</td>\n",
       "      <td>5200</td>\n",
       "      <td>Petrol</td>\n",
       "      <td>Dealer</td>\n",
       "      <td>Manual</td>\n",
       "      <td>0</td>\n",
       "    </tr>\n",
       "    <tr>\n",
       "      <th>4</th>\n",
       "      <td>2014</td>\n",
       "      <td>6.87</td>\n",
       "      <td>42450</td>\n",
       "      <td>Diesel</td>\n",
       "      <td>Dealer</td>\n",
       "      <td>Manual</td>\n",
       "      <td>0</td>\n",
       "    </tr>\n",
       "  </tbody>\n",
       "</table>\n",
       "</div>"
      ],
      "text/plain": [
       "   Year  Present_Price  Kms_Driven Fuel_Type Seller_Type Transmission  Owner\n",
       "0  2014           5.59       27000    Petrol      Dealer       Manual      0\n",
       "1  2013           9.54       43000    Diesel      Dealer       Manual      0\n",
       "2  2017           9.85        6900    Petrol      Dealer       Manual      0\n",
       "3  2011           4.15        5200    Petrol      Dealer       Manual      0\n",
       "4  2014           6.87       42450    Diesel      Dealer       Manual      0"
      ]
     },
     "execution_count": 15,
     "metadata": {},
     "output_type": "execute_result"
    }
   ],
   "source": [
    "x.head()"
   ]
  },
  {
   "cell_type": "code",
   "execution_count": 16,
   "id": "f4fa8c07",
   "metadata": {},
   "outputs": [
    {
     "data": {
      "text/plain": [
       "(301, 7)"
      ]
     },
     "execution_count": 16,
     "metadata": {},
     "output_type": "execute_result"
    }
   ],
   "source": [
    "x.shape"
   ]
  },
  {
   "cell_type": "code",
   "execution_count": 17,
   "id": "c4e69100",
   "metadata": {},
   "outputs": [
    {
     "data": {
      "text/plain": [
       "0    3.35\n",
       "1    4.75\n",
       "2    7.25\n",
       "3    2.85\n",
       "4    4.60\n",
       "Name: Selling_Price, dtype: float64"
      ]
     },
     "execution_count": 17,
     "metadata": {},
     "output_type": "execute_result"
    }
   ],
   "source": [
    "y.head()"
   ]
  },
  {
   "cell_type": "code",
   "execution_count": 18,
   "id": "1d62bddf",
   "metadata": {},
   "outputs": [
    {
     "data": {
      "text/plain": [
       "(301,)"
      ]
     },
     "execution_count": 18,
     "metadata": {},
     "output_type": "execute_result"
    }
   ],
   "source": [
    "y.shape"
   ]
  },
  {
   "cell_type": "code",
   "execution_count": 19,
   "id": "6e261027",
   "metadata": {},
   "outputs": [],
   "source": [
    "x['Current_yrs'] = 2021"
   ]
  },
  {
   "cell_type": "code",
   "execution_count": 20,
   "id": "36614360",
   "metadata": {},
   "outputs": [],
   "source": [
    "x['No_yrs'] = x['Current_yrs'] - x['Year']"
   ]
  },
  {
   "cell_type": "code",
   "execution_count": 22,
   "id": "0fa55d19",
   "metadata": {},
   "outputs": [],
   "source": [
    "x.drop(['Year','Current_yrs'],axis=1,inplace=True)"
   ]
  },
  {
   "cell_type": "code",
   "execution_count": 23,
   "id": "11e5e835",
   "metadata": {},
   "outputs": [
    {
     "data": {
      "text/html": [
       "<div>\n",
       "<style scoped>\n",
       "    .dataframe tbody tr th:only-of-type {\n",
       "        vertical-align: middle;\n",
       "    }\n",
       "\n",
       "    .dataframe tbody tr th {\n",
       "        vertical-align: top;\n",
       "    }\n",
       "\n",
       "    .dataframe thead th {\n",
       "        text-align: right;\n",
       "    }\n",
       "</style>\n",
       "<table border=\"1\" class=\"dataframe\">\n",
       "  <thead>\n",
       "    <tr style=\"text-align: right;\">\n",
       "      <th></th>\n",
       "      <th>Present_Price</th>\n",
       "      <th>Kms_Driven</th>\n",
       "      <th>Fuel_Type</th>\n",
       "      <th>Seller_Type</th>\n",
       "      <th>Transmission</th>\n",
       "      <th>Owner</th>\n",
       "      <th>No_yrs</th>\n",
       "    </tr>\n",
       "  </thead>\n",
       "  <tbody>\n",
       "    <tr>\n",
       "      <th>0</th>\n",
       "      <td>5.59</td>\n",
       "      <td>27000</td>\n",
       "      <td>Petrol</td>\n",
       "      <td>Dealer</td>\n",
       "      <td>Manual</td>\n",
       "      <td>0</td>\n",
       "      <td>7</td>\n",
       "    </tr>\n",
       "    <tr>\n",
       "      <th>1</th>\n",
       "      <td>9.54</td>\n",
       "      <td>43000</td>\n",
       "      <td>Diesel</td>\n",
       "      <td>Dealer</td>\n",
       "      <td>Manual</td>\n",
       "      <td>0</td>\n",
       "      <td>8</td>\n",
       "    </tr>\n",
       "    <tr>\n",
       "      <th>2</th>\n",
       "      <td>9.85</td>\n",
       "      <td>6900</td>\n",
       "      <td>Petrol</td>\n",
       "      <td>Dealer</td>\n",
       "      <td>Manual</td>\n",
       "      <td>0</td>\n",
       "      <td>4</td>\n",
       "    </tr>\n",
       "    <tr>\n",
       "      <th>3</th>\n",
       "      <td>4.15</td>\n",
       "      <td>5200</td>\n",
       "      <td>Petrol</td>\n",
       "      <td>Dealer</td>\n",
       "      <td>Manual</td>\n",
       "      <td>0</td>\n",
       "      <td>10</td>\n",
       "    </tr>\n",
       "    <tr>\n",
       "      <th>4</th>\n",
       "      <td>6.87</td>\n",
       "      <td>42450</td>\n",
       "      <td>Diesel</td>\n",
       "      <td>Dealer</td>\n",
       "      <td>Manual</td>\n",
       "      <td>0</td>\n",
       "      <td>7</td>\n",
       "    </tr>\n",
       "  </tbody>\n",
       "</table>\n",
       "</div>"
      ],
      "text/plain": [
       "   Present_Price  Kms_Driven Fuel_Type Seller_Type Transmission  Owner  No_yrs\n",
       "0           5.59       27000    Petrol      Dealer       Manual      0       7\n",
       "1           9.54       43000    Diesel      Dealer       Manual      0       8\n",
       "2           9.85        6900    Petrol      Dealer       Manual      0       4\n",
       "3           4.15        5200    Petrol      Dealer       Manual      0      10\n",
       "4           6.87       42450    Diesel      Dealer       Manual      0       7"
      ]
     },
     "execution_count": 23,
     "metadata": {},
     "output_type": "execute_result"
    }
   ],
   "source": [
    "x.head()"
   ]
  },
  {
   "cell_type": "code",
   "execution_count": 24,
   "id": "1531c9ac",
   "metadata": {},
   "outputs": [],
   "source": [
    "x = pd.get_dummies(x,drop_first=True)"
   ]
  },
  {
   "cell_type": "code",
   "execution_count": 25,
   "id": "0fdcf5e2",
   "metadata": {},
   "outputs": [
    {
     "data": {
      "text/html": [
       "<div>\n",
       "<style scoped>\n",
       "    .dataframe tbody tr th:only-of-type {\n",
       "        vertical-align: middle;\n",
       "    }\n",
       "\n",
       "    .dataframe tbody tr th {\n",
       "        vertical-align: top;\n",
       "    }\n",
       "\n",
       "    .dataframe thead th {\n",
       "        text-align: right;\n",
       "    }\n",
       "</style>\n",
       "<table border=\"1\" class=\"dataframe\">\n",
       "  <thead>\n",
       "    <tr style=\"text-align: right;\">\n",
       "      <th></th>\n",
       "      <th>Present_Price</th>\n",
       "      <th>Kms_Driven</th>\n",
       "      <th>Owner</th>\n",
       "      <th>No_yrs</th>\n",
       "      <th>Fuel_Type_Diesel</th>\n",
       "      <th>Fuel_Type_Petrol</th>\n",
       "      <th>Seller_Type_Individual</th>\n",
       "      <th>Transmission_Manual</th>\n",
       "    </tr>\n",
       "  </thead>\n",
       "  <tbody>\n",
       "    <tr>\n",
       "      <th>0</th>\n",
       "      <td>5.59</td>\n",
       "      <td>27000</td>\n",
       "      <td>0</td>\n",
       "      <td>7</td>\n",
       "      <td>0</td>\n",
       "      <td>1</td>\n",
       "      <td>0</td>\n",
       "      <td>1</td>\n",
       "    </tr>\n",
       "    <tr>\n",
       "      <th>1</th>\n",
       "      <td>9.54</td>\n",
       "      <td>43000</td>\n",
       "      <td>0</td>\n",
       "      <td>8</td>\n",
       "      <td>1</td>\n",
       "      <td>0</td>\n",
       "      <td>0</td>\n",
       "      <td>1</td>\n",
       "    </tr>\n",
       "    <tr>\n",
       "      <th>2</th>\n",
       "      <td>9.85</td>\n",
       "      <td>6900</td>\n",
       "      <td>0</td>\n",
       "      <td>4</td>\n",
       "      <td>0</td>\n",
       "      <td>1</td>\n",
       "      <td>0</td>\n",
       "      <td>1</td>\n",
       "    </tr>\n",
       "    <tr>\n",
       "      <th>3</th>\n",
       "      <td>4.15</td>\n",
       "      <td>5200</td>\n",
       "      <td>0</td>\n",
       "      <td>10</td>\n",
       "      <td>0</td>\n",
       "      <td>1</td>\n",
       "      <td>0</td>\n",
       "      <td>1</td>\n",
       "    </tr>\n",
       "    <tr>\n",
       "      <th>4</th>\n",
       "      <td>6.87</td>\n",
       "      <td>42450</td>\n",
       "      <td>0</td>\n",
       "      <td>7</td>\n",
       "      <td>1</td>\n",
       "      <td>0</td>\n",
       "      <td>0</td>\n",
       "      <td>1</td>\n",
       "    </tr>\n",
       "  </tbody>\n",
       "</table>\n",
       "</div>"
      ],
      "text/plain": [
       "   Present_Price  Kms_Driven  Owner  No_yrs  Fuel_Type_Diesel  \\\n",
       "0           5.59       27000      0       7                 0   \n",
       "1           9.54       43000      0       8                 1   \n",
       "2           9.85        6900      0       4                 0   \n",
       "3           4.15        5200      0      10                 0   \n",
       "4           6.87       42450      0       7                 1   \n",
       "\n",
       "   Fuel_Type_Petrol  Seller_Type_Individual  Transmission_Manual  \n",
       "0                 1                       0                    1  \n",
       "1                 0                       0                    1  \n",
       "2                 1                       0                    1  \n",
       "3                 1                       0                    1  \n",
       "4                 0                       0                    1  "
      ]
     },
     "execution_count": 25,
     "metadata": {},
     "output_type": "execute_result"
    }
   ],
   "source": [
    "x.head()"
   ]
  },
  {
   "cell_type": "code",
   "execution_count": 28,
   "id": "6219cbff",
   "metadata": {},
   "outputs": [],
   "source": [
    "from sklearn.model_selection import train_test_split\n",
    "x_train,x_test,y_train,y_test=train_test_split(x,y,train_size=0.3,random_state=0)"
   ]
  },
  {
   "cell_type": "code",
   "execution_count": 32,
   "id": "7cf99c05",
   "metadata": {},
   "outputs": [],
   "source": [
    "from sklearn.model_selection import RandomizedSearchCV, GridSearchCV\n",
    "import xgboost"
   ]
  },
  {
   "cell_type": "code",
   "execution_count": 33,
   "id": "af07e55f",
   "metadata": {},
   "outputs": [],
   "source": [
    "xgr = xgboost.XGBRegressor()"
   ]
  },
  {
   "cell_type": "code",
   "execution_count": 34,
   "id": "f4878818",
   "metadata": {},
   "outputs": [
    {
     "data": {
      "text/plain": [
       "XGBRegressor(base_score=0.5, booster='gbtree', colsample_bylevel=1,\n",
       "             colsample_bynode=1, colsample_bytree=1, gamma=0, gpu_id=-1,\n",
       "             importance_type='gain', interaction_constraints='',\n",
       "             learning_rate=0.300000012, max_delta_step=0, max_depth=6,\n",
       "             min_child_weight=1, missing=nan, monotone_constraints='()',\n",
       "             n_estimators=100, n_jobs=4, num_parallel_tree=1, random_state=0,\n",
       "             reg_alpha=0, reg_lambda=1, scale_pos_weight=1, subsample=1,\n",
       "             tree_method='exact', validate_parameters=1, verbosity=None)"
      ]
     },
     "execution_count": 34,
     "metadata": {},
     "output_type": "execute_result"
    }
   ],
   "source": [
    "xgr.fit(x_train,y_train)"
   ]
  },
  {
   "cell_type": "code",
   "execution_count": 35,
   "id": "f1b5b7ef",
   "metadata": {},
   "outputs": [],
   "source": [
    "y_pred = xgr.predict(x_test)"
   ]
  },
  {
   "cell_type": "code",
   "execution_count": 36,
   "id": "1095557c",
   "metadata": {},
   "outputs": [
    {
     "data": {
      "text/plain": [
       "array([ 7.1237073 ,  0.40415034,  4.3728037 ,  8.330413  , 13.763007  ,\n",
       "        4.6923666 ,  3.0416398 ,  0.47805265,  4.2979684 ,  4.274347  ,\n",
       "        3.2725825 ,  0.7855659 ,  4.746279  , 10.082733  ,  7.7508    ,\n",
       "       12.7103    ,  6.938628  ,  4.145267  ,  0.46765745,  1.6635752 ,\n",
       "        3.098372  ,  4.8037114 ,  4.4835563 , 10.707427  ,  0.20372915,\n",
       "        0.7506069 ,  0.4858802 ,  0.5669563 ,  0.468253  ,  4.147382  ,\n",
       "        2.2368858 ,  7.1836514 ,  0.56801707,  7.846908  ,  3.8871326 ,\n",
       "        1.0931048 ,  5.535601  ,  4.5627437 ,  0.20300315,  8.134729  ,\n",
       "       10.126108  , 15.354393  ,  4.287031  ,  4.1411896 ,  6.364474  ,\n",
       "        9.98131   ,  0.25609794,  0.7783675 ,  5.0457234 ,  6.6383476 ,\n",
       "        9.365536  ,  2.8767989 ,  5.0806475 , 15.349517  ,  1.1354941 ,\n",
       "        1.0350732 ,  0.7299521 ,  2.3739076 ,  3.4163203 ,  2.481695  ,\n",
       "        3.9729197 ,  6.250047  ,  2.4459503 , 17.37843   ,  4.3716426 ,\n",
       "        4.938343  ,  8.027494  ,  6.126501  ,  0.44642717,  3.2242568 ,\n",
       "        2.9018693 ,  3.0677147 ,  0.46810582,  5.1744213 ,  0.48010483,\n",
       "        4.847718  ,  0.73518044, 10.511832  ,  1.11906   ,  2.3189888 ,\n",
       "        0.50081724, 12.542626  ,  4.399657  ,  4.7854457 ,  6.364258  ,\n",
       "        1.0263807 ,  5.2425866 ,  5.521333  ,  0.44584063,  4.6923666 ,\n",
       "        0.38516948,  4.6044097 , 11.506598  ,  1.1701865 ,  5.204091  ,\n",
       "        0.19542034,  0.7419263 ,  0.42320916,  1.4192164 ,  3.8702157 ,\n",
       "        3.2642279 ,  3.5691266 ,  0.6104072 ,  4.5354342 ,  0.9771459 ,\n",
       "        0.7840113 ,  5.056167  ,  3.0266013 ,  7.25431   ,  3.1212504 ,\n",
       "       11.50924   ,  2.8963811 ,  0.49726087,  0.5694342 ,  6.7268414 ,\n",
       "        8.576907  ,  0.7708831 ,  7.747231  ,  6.680811  ,  0.5712616 ,\n",
       "        2.268765  ,  1.3304003 ,  4.801948  ,  6.9215646 ,  0.38418356,\n",
       "        8.018271  ,  4.0784054 ,  4.190689  ,  1.0832101 ,  4.485898  ,\n",
       "        2.8824844 ,  4.648388  , 21.516418  ,  0.318066  ,  4.397023  ,\n",
       "        9.580524  ,  0.7726266 ,  0.20123933,  0.6248097 ,  4.250971  ,\n",
       "        5.1813793 ,  0.24934882,  4.6661186 ,  1.0596694 ,  0.15402877,\n",
       "        2.4209306 ,  0.43037495,  0.9936813 ,  2.640162  ,  3.0899465 ,\n",
       "        4.1324544 ,  7.4699025 ,  0.278153  ,  2.3927214 ,  9.400646  ,\n",
       "        3.9401286 ,  8.858262  , 12.230427  , 15.346338  , 10.175874  ,\n",
       "        8.29936   ,  1.3572079 ,  0.49857613, 14.162027  ,  2.6716483 ,\n",
       "        0.46671695,  4.145267  ,  2.793371  ,  1.2201489 ,  0.43037495,\n",
       "       14.500633  ,  3.541046  ,  9.249923  ,  0.99787366,  4.2347803 ,\n",
       "       15.344023  ,  0.19208936,  5.8379436 ,  0.7772788 ,  3.8339078 ,\n",
       "        8.475537  ,  6.115399  ,  1.1078331 ,  0.8110533 ,  0.21677986,\n",
       "        2.9610682 ,  0.5942552 ,  1.5212164 ,  5.198956  ,  6.766063  ,\n",
       "        4.274347  , 15.346338  ,  4.7629285 ,  0.46335658,  3.8218613 ,\n",
       "        0.3642284 ,  1.0275155 ,  4.389225  ,  5.243605  ,  8.40339   ,\n",
       "        6.1793475 ,  3.6312747 ,  4.203625  ,  4.269305  , 11.583143  ,\n",
       "        8.222024  ,  4.6257668 ,  5.235094  ,  3.8587484 ,  0.79390734,\n",
       "        4.0121417 ], dtype=float32)"
      ]
     },
     "execution_count": 36,
     "metadata": {},
     "output_type": "execute_result"
    }
   ],
   "source": [
    "y_pred"
   ]
  },
  {
   "cell_type": "code",
   "execution_count": 37,
   "id": "723f5008",
   "metadata": {},
   "outputs": [
    {
     "name": "stderr",
     "output_type": "stream",
     "text": [
      "c:\\python38\\lib\\site-packages\\seaborn\\distributions.py:2557: FutureWarning: `distplot` is a deprecated function and will be removed in a future version. Please adapt your code to use either `displot` (a figure-level function with similar flexibility) or `histplot` (an axes-level function for histograms).\n",
      "  warnings.warn(msg, FutureWarning)\n"
     ]
    },
    {
     "data": {
      "text/plain": [
       "<AxesSubplot:xlabel='Selling_Price', ylabel='Density'>"
      ]
     },
     "execution_count": 37,
     "metadata": {},
     "output_type": "execute_result"
    },
    {
     "data": {
      "image/png": "[encoded data removed]",
      "text/plain": [
       "<Figure size 432x288 with 1 Axes>"
      ]
     },
     "metadata": {
      "needs_background": "light"
     },
     "output_type": "display_data"
    }
   ],
   "source": [
    "sns.distplot(y_test-y_pred)"
   ]
  },
  {
   "cell_type": "code",
   "execution_count": 41,
   "id": "dfc7e999",
   "metadata": {},
   "outputs": [
    {
     "data": {
      "text/plain": [
       "<matplotlib.collections.PathCollection at 0x24abc928e80>"
      ]
     },
     "execution_count": 41,
     "metadata": {},
     "output_type": "execute_result"
    },
    {
     "data": {
      "image/png": "[encoded data removed]",
      "text/plain": [
       "<Figure size 432x288 with 1 Axes>"
      ]
     },
     "metadata": {
      "needs_background": "light"
     },
     "output_type": "display_data"
    }
   ],
   "source": [
    "plt.scatter(y_test,y_pred)"
   ]
  },
  {
   "cell_type": "code",
   "execution_count": 44,
   "id": "56873d17",
   "metadata": {},
   "outputs": [],
   "source": [
    "regressor=xgboost.XGBRegressor()"
   ]
  },
  {
   "cell_type": "code",
   "execution_count": 45,
   "id": "9ece254e",
   "metadata": {},
   "outputs": [],
   "source": [
    "## Hyper Parameter Optimization\n",
    "\n",
    "\n",
    "n_estimators = [100, 500, 900, 1100, 1500]\n",
    "max_depth = [2, 3, 5, 10, 15]\n",
    "booster=['gbtree','gblinear']\n",
    "learning_rate=[0.05,0.1,0.15,0.20]\n",
    "min_child_weight=[1,2,3,4]\n",
    "\n",
    "# Define the grid of hyperparameters to search\n",
    "hyperparameter_grid = {\n",
    "    'n_estimators': n_estimators,\n",
    "    'max_depth':max_depth,\n",
    "    'learning_rate':learning_rate,\n",
    "    'min_child_weight':min_child_weight,\n",
    "    'booster':booster,\n",
    "    \n",
    "    }"
   ]
  },
  {
   "cell_type": "code",
   "execution_count": 46,
   "id": "cb623c3f",
   "metadata": {},
   "outputs": [],
   "source": [
    "# Set up the random search with 4-fold cross validation\n",
    "random_cv = RandomizedSearchCV(estimator=regressor,\n",
    "            param_distributions=hyperparameter_grid,\n",
    "            cv=5, n_iter=50,\n",
    "            scoring = 'neg_mean_absolute_error',n_jobs = 2,\n",
    "            verbose = 5, \n",
    "            return_train_score = True,\n",
    "            random_state=42)"
   ]
  },
  {
   "cell_type": "code",
   "execution_count": 48,
   "id": "791e3222",
   "metadata": {},
   "outputs": [
    {
     "name": "stdout",
     "output_type": "stream",
     "text": [
      "Fitting 5 folds for each of 50 candidates, totalling 250 fits\n"
     ]
    },
    {
     "data": {
      "text/plain": [
       "RandomizedSearchCV(cv=5,\n",
       "                   estimator=XGBRegressor(base_score=None, booster=None,\n",
       "                                          colsample_bylevel=None,\n",
       "                                          colsample_bynode=None,\n",
       "                                          colsample_bytree=None, gamma=None,\n",
       "                                          gpu_id=None, importance_type='gain',\n",
       "                                          interaction_constraints=None,\n",
       "                                          learning_rate=None,\n",
       "                                          max_delta_step=None, max_depth=None,\n",
       "                                          min_child_weight=None, missing=nan,\n",
       "                                          monotone_constraints=None,\n",
       "                                          n_estimators=100, n...\n",
       "                                          scale_pos_weight=None, subsample=None,\n",
       "                                          tree_method=None,\n",
       "                                          validate_parameters=None,\n",
       "                                          verbosity=None),\n",
       "                   n_iter=50, n_jobs=2,\n",
       "                   param_distributions={'booster': ['gbtree', 'gblinear'],\n",
       "                                        'learning_rate': [0.05, 0.1, 0.15, 0.2],\n",
       "                                        'max_depth': [2, 3, 5, 10, 15],\n",
       "                                        'min_child_weight': [1, 2, 3, 4],\n",
       "                                        'n_estimators': [100, 500, 900, 1100,\n",
       "                                                         1500]},\n",
       "                   random_state=42, return_train_score=True,\n",
       "                   scoring='neg_mean_absolute_error', verbose=5)"
      ]
     },
     "execution_count": 48,
     "metadata": {},
     "output_type": "execute_result"
    }
   ],
   "source": [
    "random_cv.fit(x_train,y_train)"
   ]
  },
  {
   "cell_type": "code",
   "execution_count": 49,
   "id": "62f1bc06",
   "metadata": {},
   "outputs": [
    {
     "data": {
      "text/plain": [
       "XGBRegressor(base_score=0.5, booster='gbtree', colsample_bylevel=1,\n",
       "             colsample_bynode=1, colsample_bytree=1, gamma=0, gpu_id=-1,\n",
       "             importance_type='gain', interaction_constraints='',\n",
       "             learning_rate=0.05, max_delta_step=0, max_depth=3,\n",
       "             min_child_weight=1, missing=nan, monotone_constraints='()',\n",
       "             n_estimators=1100, n_jobs=4, num_parallel_tree=1, random_state=0,\n",
       "             reg_alpha=0, reg_lambda=1, scale_pos_weight=1, subsample=1,\n",
       "             tree_method='exact', validate_parameters=1, verbosity=None)"
      ]
     },
     "execution_count": 49,
     "metadata": {},
     "output_type": "execute_result"
    }
   ],
   "source": [
    "random_cv.best_estimator_"
   ]
  },
  {
   "cell_type": "code",
   "execution_count": 50,
   "id": "256b77d6",
   "metadata": {},
   "outputs": [
    {
     "data": {
      "text/plain": [
       "XGBRegressor(base_score=0.5, booster='gbtree', colsample_bylevel=1,\n",
       "             colsample_bynode=1, colsample_bytree=1, gamma=0, gpu_id=-1,\n",
       "             importance_type='gain', interaction_constraints='',\n",
       "             learning_rate=0.05, max_delta_step=0, max_depth=3,\n",
       "             min_child_weight=1, missing=nan, monotone_constraints='()',\n",
       "             n_estimators=1100, n_jobs=4, num_parallel_tree=1, random_state=0,\n",
       "             reg_alpha=0, reg_lambda=1, scale_pos_weight=1, subsample=1,\n",
       "             tree_method='exact', validate_parameters=1, verbosity=None)"
      ]
     },
     "execution_count": 50,
     "metadata": {},
     "output_type": "execute_result"
    }
   ],
   "source": [
    "random_cv.best_estimator_"
   ]
  },
  {
   "cell_type": "code",
   "execution_count": 92,
   "id": "eec3544f",
   "metadata": {},
   "outputs": [],
   "source": [
    "regressor=xgboost.XGBRegressor(base_score=0.5, booster='gbtree', colsample_bylevel=1,\n",
    "             colsample_bynode=1, colsample_bytree=1, gamma=0, gpu_id=-1,\n",
    "             importance_type='gain', interaction_constraints='',\n",
    "             learning_rate=0.01, max_delta_step=0, max_depth=3,\n",
    "             min_child_weight=1, monotone_constraints='()',\n",
    "             n_estimators=1100, n_jobs=4, num_parallel_tree=1, random_state=0,\n",
    "             reg_alpha=0, reg_lambda=1, scale_pos_weight=1, subsample=1,\n",
    "             tree_method='exact', validate_parameters=1, verbosity=None)"
   ]
  },
  {
   "cell_type": "code",
   "execution_count": 93,
   "id": "bb07df56",
   "metadata": {},
   "outputs": [
    {
     "data": {
      "text/plain": [
       "XGBRegressor(base_score=0.5, booster='gbtree', colsample_bylevel=1,\n",
       "             colsample_bynode=1, colsample_bytree=1, gamma=0, gpu_id=-1,\n",
       "             importance_type='gain', interaction_constraints='',\n",
       "             learning_rate=0.01, max_delta_step=0, max_depth=3,\n",
       "             min_child_weight=1, missing=nan, monotone_constraints='()',\n",
       "             n_estimators=1100, n_jobs=4, num_parallel_tree=1, random_state=0,\n",
       "             reg_alpha=0, reg_lambda=1, scale_pos_weight=1, subsample=1,\n",
       "             tree_method='exact', validate_parameters=1, verbosity=None)"
      ]
     },
     "execution_count": 93,
     "metadata": {},
     "output_type": "execute_result"
    }
   ],
   "source": [
    "regressor.fit(x_train,y_train)"
   ]
  },
  {
   "cell_type": "code",
   "execution_count": 94,
   "id": "3bd8c565",
   "metadata": {},
   "outputs": [
    {
     "data": {
      "text/plain": [
       "array([ 7.268678  ,  0.48835   ,  4.279271  ,  8.239741  , 16.014498  ,\n",
       "        4.9433155 ,  2.7672846 ,  0.5811227 ,  3.7299745 ,  5.148867  ,\n",
       "        2.9644148 ,  0.79826486,  4.582999  ,  8.976973  ,  7.876877  ,\n",
       "       15.195986  ,  7.4523745 ,  3.889705  ,  0.54868764,  1.6353754 ,\n",
       "        2.9070244 ,  4.967257  ,  5.6418715 , 10.396148  ,  0.11949095,\n",
       "        0.7425198 ,  0.3968037 ,  0.55701107,  0.5128002 ,  4.7704973 ,\n",
       "        2.4000251 ,  6.7763844 ,  0.55701107,  8.521115  ,  3.8976555 ,\n",
       "        1.2014196 ,  5.4899535 ,  4.9516325 ,  0.20978788,  8.275492  ,\n",
       "        9.482693  , 16.642197  ,  4.598048  ,  4.1675463 ,  6.267429  ,\n",
       "       10.212786  ,  0.33888805,  0.7597613 ,  4.939552  ,  6.811048  ,\n",
       "        9.0475    ,  3.1615765 ,  5.027627  , 16.048729  ,  1.1582128 ,\n",
       "        0.9994065 ,  0.53964543,  2.1255596 ,  3.4492607 ,  2.5997732 ,\n",
       "        4.2007537 ,  6.1797256 ,  2.405378  , 19.564575  ,  4.0933895 ,\n",
       "        5.3800473 ,  8.682694  ,  5.3813715 ,  0.5286021 ,  2.7734978 ,\n",
       "        2.6625102 ,  3.3626993 ,  0.54654545,  5.6034603 ,  0.36347666,\n",
       "        4.700261  ,  0.60510033, 10.016674  ,  0.9708168 ,  2.2809649 ,\n",
       "        0.49023104, 13.801145  ,  4.640777  ,  4.9698625 ,  6.6834517 ,\n",
       "        0.95496356,  5.933948  ,  6.5730114 ,  0.53750455,  4.9433155 ,\n",
       "        0.4300142 ,  4.154802  , 10.825169  ,  1.1849566 ,  4.589646  ,\n",
       "        0.26790938,  0.6046776 ,  0.4934715 ,  1.3608129 ,  3.6743426 ,\n",
       "        3.0367308 ,  4.110039  ,  0.4997057 ,  4.2995977 ,  1.2164167 ,\n",
       "        0.79826486,  6.623938  ,  2.810937  ,  7.354279  ,  2.787499  ,\n",
       "       10.908008  ,  3.1746838 ,  0.50333834,  0.5397696 ,  6.7763844 ,\n",
       "        8.987635  ,  0.690132  ,  7.2395496 ,  7.4529305 ,  0.54443264,\n",
       "        2.449104  ,  1.5861663 ,  4.967257  ,  7.3125324 ,  0.4085214 ,\n",
       "        7.453692  ,  4.2487636 ,  4.110039  ,  1.2014196 ,  4.234216  ,\n",
       "        3.1615765 ,  4.3065634 , 20.448471  ,  0.33954093,  4.6648293 ,\n",
       "        9.2126875 ,  0.6558436 ,  0.07927151,  0.526781  ,  4.378817  ,\n",
       "        5.696528  ,  0.30008745,  5.068963  ,  0.9657811 ,  0.19269073,\n",
       "        2.4967449 ,  0.5286021 ,  1.0106509 ,  2.6112838 ,  3.0367308 ,\n",
       "        3.864403  ,  7.135379  ,  0.33974382,  2.528668  ,  9.336325  ,\n",
       "        3.749916  ,  8.913003  , 12.436617  , 16.5664    ,  9.541237  ,\n",
       "        8.668254  ,  1.2467027 ,  0.45485532, 13.224275  ,  3.0386317 ,\n",
       "        0.31259426,  3.9148183 ,  2.4047103 ,  2.067314  ,  0.5286021 ,\n",
       "       14.548285  ,  2.947587  ,  9.001997  ,  0.96451396,  4.1403737 ,\n",
       "       15.468789  ,  0.07036822,  5.1991677 ,  0.7636876 ,  4.7737846 ,\n",
       "        8.180018  ,  6.2380204 ,  1.093576  ,  0.72048056,  0.14893696,\n",
       "        2.8641272 ,  0.6618458 ,  1.3766533 ,  5.4899535 ,  7.663016  ,\n",
       "        5.148867  , 16.5664    ,  4.744662  ,  0.5259073 ,  4.26229   ,\n",
       "        0.3815167 ,  1.0194639 ,  4.0840473 ,  5.070904  ,  8.781433  ,\n",
       "        6.4309254 ,  4.059169  ,  4.0849257 ,  4.3097935 , 12.333809  ,\n",
       "        8.25503   ,  5.068963  ,  5.2290483 ,  3.7259538 ,  0.6977557 ,\n",
       "        4.0998435 ], dtype=float32)"
      ]
     },
     "execution_count": 94,
     "metadata": {},
     "output_type": "execute_result"
    }
   ],
   "source": [
    "y2_pred = regressor.predict(x_test)\n",
    "y2_pred"
   ]
  },
  {
   "cell_type": "code",
   "execution_count": 95,
   "id": "1081fffa",
   "metadata": {},
   "outputs": [
    {
     "name": "stderr",
     "output_type": "stream",
     "text": [
      "c:\\python38\\lib\\site-packages\\seaborn\\distributions.py:2557: FutureWarning: `distplot` is a deprecated function and will be removed in a future version. Please adapt your code to use either `displot` (a figure-level function with similar flexibility) or `histplot` (an axes-level function for histograms).\n",
      "  warnings.warn(msg, FutureWarning)\n"
     ]
    },
    {
     "data": {
      "text/plain": [
       "<AxesSubplot:xlabel='Selling_Price', ylabel='Density'>"
      ]
     },
     "execution_count": 95,
     "metadata": {},
     "output_type": "execute_result"
    },
    {
     "data": {
      "image/png": "[encoded data removed]",
      "text/plain": [
       "<Figure size 432x288 with 1 Axes>"
      ]
     },
     "metadata": {
      "needs_background": "light"
     },
     "output_type": "display_data"
    }
   ],
   "source": [
    "sns.distplot(y_test-y2_pred)"
   ]
  },
  {
   "cell_type": "code",
   "execution_count": 96,
   "id": "4a2f34c7",
   "metadata": {},
   "outputs": [
    {
     "data": {
      "text/plain": [
       "<matplotlib.collections.PathCollection at 0x24abef0c190>"
      ]
     },
     "execution_count": 96,
     "metadata": {},
     "output_type": "execute_result"
    },
    {
     "data": {
      "image/png": "[encoded data removed]",
      "text/plain": [
       "<Figure size 432x288 with 1 Axes>"
      ]
     },
     "metadata": {
      "needs_background": "light"
     },
     "output_type": "display_data"
    }
   ],
   "source": [
    "plt.scatter(y_test,y2_pred)"
   ]
  },
  {
   "cell_type": "code",
   "execution_count": 65,
   "id": "38b8ba12",
   "metadata": {},
   "outputs": [],
   "source": [
    "from sklearn.metrics import accuracy_score,r2_score"
   ]
  },
  {
   "cell_type": "code",
   "execution_count": 97,
   "id": "d1db7361",
   "metadata": {},
   "outputs": [
    {
     "name": "stdout",
     "output_type": "stream",
     "text": [
      "1.accuracy_score --> 0.8154564003499193\n",
      "2.accuracy_score --> 0.841386582640449\n"
     ]
    }
   ],
   "source": [
    "print('1.accuracy_score -->',r2_score(y_test,y_pred))\n",
    "print('2.accuracy_score -->',r2_score(y_test,y2_pred))"
   ]
  },
  {
   "cell_type": "code",
   "execution_count": 98,
   "id": "2feaf5f7",
   "metadata": {},
   "outputs": [
    {
     "data": {
      "text/plain": [
       "array([ 4.0840473 ,  5.0847955 ,  9.541237  ,  2.4967449 ,  4.3065634 ,\n",
       "        9.482693  ,  6.7608323 ,  6.811048  ,  8.521115  ,  7.4108768 ,\n",
       "        3.0386317 ,  7.0494375 ,  8.976973  ,  5.068963  ,  2.067314  ,\n",
       "        7.876877  ,  7.453692  ,  7.876877  ,  4.110039  ,  2.528668  ,\n",
       "        2.6625102 ,  4.967257  ,  2.9070244 ,  2.4107828 ,  2.6112838 ,\n",
       "        3.0015237 ,  3.4492607 ,  4.700261  ,  1.8210906 ,  7.3125324 ,\n",
       "        3.0367308 ,  2.6162887 ,  4.8340554 ,  6.7763844 ,  6.267429  ,\n",
       "        2.9986203 ,  4.26229   ,  0.9708168 ,  2.8148441 ,  2.2041392 ,\n",
       "        5.696528  ,  2.4047103 ,  2.0811174 ,  6.2380204 ,  1.1849566 ,\n",
       "        9.0475    ,  3.3626993 ,  1.2381366 ,  5.068963  ,  8.25503   ,\n",
       "       14.548285  , 16.5664    , 16.014498  , 15.955065  ,  3.6743426 ,\n",
       "        4.7704973 ,  4.2487636 ,  4.9930654 ,  3.9148183 , 16.642197  ,\n",
       "        7.4529305 ,  4.6648293 , 15.468789  , 16.048729  , 19.564575  ,\n",
       "        4.481692  , 15.195986  ,  9.2126875 ,  4.38422   , 12.333809  ,\n",
       "        4.0122414 ,  6.623938  ,  7.4055796 ,  2.7734978 ,  6.1797256 ,\n",
       "        4.110039  ,  6.5730114 ,  3.864403  ,  5.283945  , 14.548285  ,\n",
       "       12.436617  ,  4.9516325 , 22.871614  ,  8.987635  ,  3.5380507 ,\n",
       "        5.2290483 , 13.224275  ,  5.730557  ,  3.5602772 ,  3.889705  ,\n",
       "        5.3813715 , 11.147279  ,  4.2007537 , 16.5664    ,  5.070904  ,\n",
       "        6.4309254 , 20.448471  , 13.801145  ,  7.663016  ,  9.53692   ,\n",
       "        1.6334643 ,  1.6353754 ,  1.6353754 ,  1.3608129 ,  1.2467027 ,\n",
       "        1.3630427 ,  2.5997732 ,  0.9657811 ,  1.1582128 ,  1.2014196 ,\n",
       "        1.5861663 ,  1.2014196 ,  1.3766533 ,  1.0194639 ,  1.093576  ,\n",
       "        1.093576  ,  0.95496356,  1.3140811 ,  0.9994065 ,  1.2066416 ,\n",
       "        1.1518472 ,  0.9635742 ,  0.7597613 ,  0.96451396,  1.2164167 ,\n",
       "        1.0106509 ,  0.79826486,  0.76276976,  0.79826486,  0.7425198 ,\n",
       "        0.7636876 ,  0.63860214,  0.79826486,  0.79826486,  0.690132  ,\n",
       "        0.4300142 ,  0.55701107,  0.53964543,  0.72048056,  0.6558436 ,\n",
       "        0.51723063,  0.6977557 ,  0.5660405 ,  0.6446043 ,  0.55701107,\n",
       "        0.53750455,  0.60510033,  0.52980614,  0.45046207,  0.6618458 ,\n",
       "        0.48835   ,  0.4884055 ,  0.5128002 ,  0.526781  ,  0.6046776 ,\n",
       "        0.5286021 ,  0.50333834,  0.54443264,  0.54654545,  0.5286021 ,\n",
       "        0.4934715 ,  0.5397696 ,  0.5259073 ,  0.4452492 ,  0.49023104,\n",
       "        0.5286021 ,  0.5811227 ,  0.4997057 ,  0.33954093,  0.39675492,\n",
       "        0.4870753 ,  0.4085214 ,  0.3920918 ,  0.5286021 ,  0.3093562 ,\n",
       "        0.3968037 ,  0.54868764,  0.3921829 ,  0.3815167 ,  0.36347666,\n",
       "        0.2611847 ,  0.45485532,  0.33888805,  0.34371355,  0.20978788,\n",
       "        0.24223001,  0.25002128,  0.30008745,  0.33974382,  0.07036822,\n",
       "        0.11949095,  0.26790938,  0.21529561,  0.27005026,  0.31259426,\n",
       "        0.24573214,  0.1196025 ,  0.24597953,  0.19269073,  0.14893696,\n",
       "        0.07927151,  2.4000251 ,  4.306384  ,  2.7858777 ,  2.8844297 ,\n",
       "        4.967257  ,  4.744662  ,  4.0998435 ,  7.2395496 ,  4.640777  ,\n",
       "        2.787499  , 11.706321  , 10.396148  ,  2.947587  ,  4.582999  ,\n",
       "        5.148867  ,  3.1615765 ,  3.1746838 ,  6.6834517 ,  5.148867  ,\n",
       "        2.8641272 ,  3.7299745 ,  4.154802  ,  7.268678  ,  5.6418715 ,\n",
       "        2.9644148 ,  4.279271  ,  2.1255596 ,  5.1991677 ,  3.0367308 ,\n",
       "        5.6034603 ,  9.001997  , 11.397742  ,  3.749916  ,  4.598048  ,\n",
       "        9.001997  ,  3.1615765 ,  8.668254  ,  5.027627  ,  2.405378  ,\n",
       "        5.933948  ,  4.1675463 ,  4.1508965 ,  5.7910213 ,  5.6270986 ,\n",
       "        4.589646  ,  2.7672846 ,  7.354279  ,  3.7392366 ,  5.4899535 ,\n",
       "       10.212786  ,  4.942475  ,  4.2995977 ,  6.7763844 ,  4.939552  ,\n",
       "        2.810937  ,  9.336325  ,  8.142807  ,  8.781433  ,  3.9148183 ,\n",
       "       10.016674  ,  4.9433155 ,  4.0849257 ,  5.4899535 ,  4.0849257 ,\n",
       "        6.7590337 ,  3.9148183 ,  8.913003  ,  4.700261  ,  8.180018  ,\n",
       "        4.1403737 ,  3.8976555 ,  7.6171474 ,  2.2809649 ,  4.234216  ,\n",
       "       10.594372  ,  8.781433  ,  9.279793  ,  7.135379  ,  6.790944  ,\n",
       "        4.378817  ,  2.449104  ,  8.275492  , 10.825169  ,  3.71519   ,\n",
       "        7.4523745 ,  5.3800473 ,  4.9698625 ,  8.49764   , 10.908008  ,\n",
       "        4.234216  ,  4.3097935 ,  6.8552766 ,  4.7737846 ,  4.0933895 ,\n",
       "        8.682694  ,  8.239741  ,  4.059169  ,  3.7259538 , 11.457439  ,\n",
       "        4.9433155 ], dtype=float32)"
      ]
     },
     "execution_count": 98,
     "metadata": {},
     "output_type": "execute_result"
    }
   ],
   "source": [
    "final_pred = regressor.predict(x)\n",
    "final_pred"
   ]
  },
  {
   "cell_type": "code",
   "execution_count": 99,
   "id": "160b1706",
   "metadata": {},
   "outputs": [
    {
     "name": "stderr",
     "output_type": "stream",
     "text": [
      "c:\\python38\\lib\\site-packages\\seaborn\\distributions.py:2557: FutureWarning: `distplot` is a deprecated function and will be removed in a future version. Please adapt your code to use either `displot` (a figure-level function with similar flexibility) or `histplot` (an axes-level function for histograms).\n",
      "  warnings.warn(msg, FutureWarning)\n"
     ]
    },
    {
     "data": {
      "text/plain": [
       "<AxesSubplot:xlabel='Selling_Price', ylabel='Density'>"
      ]
     },
     "execution_count": 99,
     "metadata": {},
     "output_type": "execute_result"
    },
    {
     "data": {
      "image/png": "[encoded data removed]",
      "text/plain": [
       "<Figure size 432x288 with 1 Axes>"
      ]
     },
     "metadata": {
      "needs_background": "light"
     },
     "output_type": "display_data"
    }
   ],
   "source": [
    "sns.distplot(y-final_pred)"
   ]
  },
  {
   "cell_type": "code",
   "execution_count": 100,
   "id": "6b4aaeaa",
   "metadata": {},
   "outputs": [
    {
     "name": "stdout",
     "output_type": "stream",
     "text": [
      "1.accuracy_score --> 0.8736416383461081\n",
      "2.accuracy_score --> 0.8736416383461081\n"
     ]
    }
   ],
   "source": [
    "print('1.accuracy_score -->',r2_score(y,final_pred))\n",
    "print('2.accuracy_score -->',r2_score(y,final_pred))"
   ]
  },
  {
   "cell_type": "code",
   "execution_count": 102,
   "id": "4c754533",
   "metadata": {},
   "outputs": [
    {
     "name": "stderr",
     "output_type": "stream",
     "text": [
      "c:\\python38\\lib\\site-packages\\pandas\\core\\frame.py:4308: SettingWithCopyWarning: \n",
      "A value is trying to be set on a copy of a slice from a DataFrame\n",
      "\n",
      "See the caveats in the documentation: https://pandas.pydata.org/pandas-docs/stable/user_guide/indexing.html#returning-a-view-versus-a-copy\n",
      "  return super().drop(\n"
     ]
    }
   ],
   "source": [
    "x_train.drop(['Owner'],axis=1,inplace=True)\n",
    "x_test.drop(['Owner'],axis=1,inplace=True)"
   ]
  },
  {
   "cell_type": "code",
   "execution_count": 103,
   "id": "207ad414",
   "metadata": {},
   "outputs": [],
   "source": [
    "regressor=xgboost.XGBRegressor(base_score=0.5, booster='gbtree', colsample_bylevel=1,\n",
    "             colsample_bynode=1, colsample_bytree=1, gamma=0, gpu_id=-1,\n",
    "             importance_type='gain', interaction_constraints='',\n",
    "             learning_rate=0.01, max_delta_step=0, max_depth=3,\n",
    "             min_child_weight=1, monotone_constraints='()',\n",
    "             n_estimators=1100, n_jobs=4, num_parallel_tree=1, random_state=0,\n",
    "             reg_alpha=0, reg_lambda=1, scale_pos_weight=1, subsample=1,\n",
    "             tree_method='exact', validate_parameters=1, verbosity=None)"
   ]
  },
  {
   "cell_type": "code",
   "execution_count": 104,
   "id": "8965e8e6",
   "metadata": {},
   "outputs": [
    {
     "data": {
      "text/plain": [
       "XGBRegressor(base_score=0.5, booster='gbtree', colsample_bylevel=1,\n",
       "             colsample_bynode=1, colsample_bytree=1, gamma=0, gpu_id=-1,\n",
       "             importance_type='gain', interaction_constraints='',\n",
       "             learning_rate=0.01, max_delta_step=0, max_depth=3,\n",
       "             min_child_weight=1, missing=nan, monotone_constraints='()',\n",
       "             n_estimators=1100, n_jobs=4, num_parallel_tree=1, random_state=0,\n",
       "             reg_alpha=0, reg_lambda=1, scale_pos_weight=1, subsample=1,\n",
       "             tree_method='exact', validate_parameters=1, verbosity=None)"
      ]
     },
     "execution_count": 104,
     "metadata": {},
     "output_type": "execute_result"
    }
   ],
   "source": [
    "regressor.fit(x_train,y_train)"
   ]
  },
  {
   "cell_type": "code",
   "execution_count": 105,
   "id": "57242860",
   "metadata": {},
   "outputs": [
    {
     "data": {
      "text/plain": [
       "array([ 7.268678  ,  0.48835   ,  4.279271  ,  8.239741  , 16.014498  ,\n",
       "        4.9433155 ,  2.7672846 ,  0.5811227 ,  3.7299745 ,  5.148867  ,\n",
       "        2.9644148 ,  0.79826486,  4.582999  ,  8.976973  ,  7.876877  ,\n",
       "       15.195986  ,  7.4523745 ,  3.889705  ,  0.54868764,  1.6353754 ,\n",
       "        2.9070244 ,  4.967257  ,  5.6418715 , 10.396148  ,  0.11949095,\n",
       "        0.7425198 ,  0.3968037 ,  0.55701107,  0.5128002 ,  4.7704973 ,\n",
       "        2.4000251 ,  6.7763844 ,  0.55701107,  8.521115  ,  3.8976555 ,\n",
       "        1.2014196 ,  5.4899535 ,  4.9516325 ,  0.20978788,  8.275492  ,\n",
       "        9.482693  , 16.642197  ,  4.598048  ,  4.1675463 ,  6.267429  ,\n",
       "       10.212786  ,  0.33888805,  0.7597613 ,  4.939552  ,  6.811048  ,\n",
       "        9.0475    ,  3.1615765 ,  5.027627  , 16.048729  ,  1.1582128 ,\n",
       "        0.9994065 ,  0.53964543,  2.1255596 ,  3.4492607 ,  2.5997732 ,\n",
       "        4.2007537 ,  6.1797256 ,  2.405378  , 19.564575  ,  4.0933895 ,\n",
       "        5.3800473 ,  8.682694  ,  5.3813715 ,  0.5286021 ,  2.7734978 ,\n",
       "        2.6625102 ,  3.3626993 ,  0.54654545,  5.6034603 ,  0.36347666,\n",
       "        4.700261  ,  0.60510033, 10.016674  ,  0.96730787,  2.2809649 ,\n",
       "        0.49023104, 13.801145  ,  4.640777  ,  4.9698625 ,  6.6834517 ,\n",
       "        0.95496356,  5.933948  ,  6.5730114 ,  0.53750455,  4.9433155 ,\n",
       "        0.4300142 ,  4.154802  , 10.825169  ,  1.1849566 ,  4.589646  ,\n",
       "        0.26790938,  0.6046776 ,  0.4934715 ,  1.3608129 ,  3.6743426 ,\n",
       "        3.0367308 ,  4.110039  ,  0.4997057 ,  4.2995977 ,  1.2164167 ,\n",
       "        0.79826486,  6.623938  ,  2.810937  ,  7.354279  ,  2.787499  ,\n",
       "       10.908008  ,  3.1746838 ,  0.50333834,  0.5397696 ,  6.7763844 ,\n",
       "        8.987635  ,  0.690132  ,  7.2395496 ,  7.4529305 ,  0.54443264,\n",
       "        2.449104  ,  1.5861663 ,  4.967257  ,  7.3125324 ,  0.4085214 ,\n",
       "        7.453692  ,  4.2487636 ,  4.110039  ,  1.2014196 ,  4.234216  ,\n",
       "        3.1615765 ,  4.3065634 , 20.448471  ,  0.33954093,  4.6648293 ,\n",
       "        9.2126875 ,  0.6558436 ,  0.07576257,  0.526781  ,  4.378817  ,\n",
       "        5.696528  ,  0.30008745,  5.068963  ,  0.9657811 ,  0.19269073,\n",
       "        2.4967449 ,  0.5286021 ,  1.0106509 ,  2.6112838 ,  3.0367308 ,\n",
       "        3.864403  ,  7.135379  ,  0.33974382,  2.528668  ,  9.336325  ,\n",
       "        3.749916  ,  8.913003  , 12.436617  , 16.5664    ,  9.541237  ,\n",
       "        8.668254  ,  1.2467027 ,  0.45485532, 13.224275  ,  3.0386317 ,\n",
       "        0.31259426,  3.9148183 ,  2.4047103 ,  2.067314  ,  0.5286021 ,\n",
       "       14.548285  ,  2.947587  ,  9.001997  ,  0.96451396,  4.1403737 ,\n",
       "       15.468789  ,  0.06685927,  5.1991677 ,  0.7636876 ,  4.7737846 ,\n",
       "        8.180018  ,  6.2380204 ,  1.093576  ,  0.72048056,  0.14542797,\n",
       "        2.8641272 ,  0.6618458 ,  1.3766533 ,  5.4899535 ,  7.663016  ,\n",
       "        5.148867  , 16.5664    ,  4.744662  ,  0.5259073 ,  4.26229   ,\n",
       "        0.3815167 ,  1.0194639 ,  4.0840473 ,  5.070904  ,  8.781433  ,\n",
       "        6.4309254 ,  4.059169  ,  4.0849257 ,  4.3097935 , 12.333809  ,\n",
       "        8.25503   ,  5.068963  ,  5.2290483 ,  3.7259538 ,  0.6977557 ,\n",
       "        4.0998435 ], dtype=float32)"
      ]
     },
     "execution_count": 105,
     "metadata": {},
     "output_type": "execute_result"
    }
   ],
   "source": [
    "y2_pred = regressor.predict(x_test)\n",
    "y2_pred"
   ]
  },
  {
   "cell_type": "code",
   "execution_count": 107,
   "id": "3865b8c1",
   "metadata": {},
   "outputs": [
    {
     "name": "stderr",
     "output_type": "stream",
     "text": [
      "c:\\python38\\lib\\site-packages\\seaborn\\distributions.py:2557: FutureWarning: `distplot` is a deprecated function and will be removed in a future version. Please adapt your code to use either `displot` (a figure-level function with similar flexibility) or `histplot` (an axes-level function for histograms).\n",
      "  warnings.warn(msg, FutureWarning)\n"
     ]
    },
    {
     "data": {
      "text/plain": [
       "<AxesSubplot:xlabel='Selling_Price', ylabel='Density'>"
      ]
     },
     "execution_count": 107,
     "metadata": {},
     "output_type": "execute_result"
    },
    {
     "data": {
      "image/png": "[encoded data removed]",
      "text/plain": [
       "<Figure size 432x288 with 1 Axes>"
      ]
     },
     "metadata": {
      "needs_background": "light"
     },
     "output_type": "display_data"
    }
   ],
   "source": [
    "sns.distplot(y_test-y2_pred)"
   ]
  },
  {
   "cell_type": "code",
   "execution_count": 109,
   "id": "bec012fa",
   "metadata": {},
   "outputs": [
    {
     "name": "stdout",
     "output_type": "stream",
     "text": [
      "1.accuracy_score --> 0.8154564003499193\n",
      "2.accuracy_score --> 0.8413871438157027\n"
     ]
    }
   ],
   "source": [
    "print('1.accuracy_score -->',r2_score(y_test,y_pred))\n",
    "print('2.accuracy_score -->',r2_score(y_test,y2_pred))"
   ]
  },
  {
   "cell_type": "code",
   "execution_count": 110,
   "id": "65e295d6",
   "metadata": {},
   "outputs": [],
   "source": [
    "import pickle\n",
    "# open a file, where you ant to store the data\n",
    "file = open('XGBoost_regressor_model.pkl', 'wb')\n",
    "\n",
    "# dump information to that file\n",
    "pickle.dump(regressor, file)"
   ]
  }
 ],
 "metadata": {
  "kernelspec": {
   "display_name": "Python 3",
   "language": "python",
   "name": "python3"
  },
  "language_info": {
   "codemirror_mode": {
    "name": "ipython",
    "version": 3
   },
   "file_extension": ".py",
   "mimetype": "text/x-python",
   "name": "python",
   "nbconvert_exporter": "python",
   "pygments_lexer": "ipython3",
   "version": "3.8.3"
  },
  "toc": {
   "base_numbering": 1,
   "nav_menu": {},
   "number_sections": true,
   "sideBar": true,
   "skip_h1_title": false,
   "title_cell": "Table of Contents",
   "title_sidebar": "Contents",
   "toc_cell": false,
   "toc_position": {},
   "toc_section_display": true,
   "toc_window_display": false
  },
  "varInspector": {
   "cols": {
    "lenName": 16,
    "lenType": 16,
    "lenVar": 40
   },
   "kernels_config": {
    "python": {
     "delete_cmd_postfix": "",
     "delete_cmd_prefix": "del ",
     "library": "var_list.py",
     "varRefreshCmd": "print(var_dic_list())"
    },
    "r": {
     "delete_cmd_postfix": ") ",
     "delete_cmd_prefix": "rm(",
     "library": "var_list.r",
     "varRefreshCmd": "cat(var_dic_list()) "
    }
   },
   "types_to_exclude": [
    "module",
    "function",
    "builtin_function_or_method",
    "instance",
    "_Feature"
   ],
   "window_display": false
  }
 },
 "nbformat": 4,
 "nbformat_minor": 5
}
